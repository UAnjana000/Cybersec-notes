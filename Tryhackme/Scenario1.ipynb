{
 "cells": [
  {
   "cell_type": "markdown",
   "id": "2c6c90e9",
   "metadata": {},
   "source": [
    "Practical Example of Defensive Security\n",
    "The Scenario\n",
    "\n",
    "Let us pretend you are a Security Operations Center (SOC) analyst responsible for protecting a bank. This bank's SOC uses a Security Information and Event Management (SIEM) tool, which gathers security-related information and events from various sources and presents them in one dashboard. If the SIEM finds something suspicious, an alert will be generated.\n",
    "\n",
    "A monitor showing multiple alerts\n",
    "\n",
    "Not all alerts are malicious, however. It is up to the analyst to use their expertise in cyber security to investigate which ones are harmful.\n",
    "\n",
    "For example, you may encounter an alert where a user has failed multiple login attempts. While suspicious, this kind of thing happens, especially if the user has forgotten their password and continues to try to log in. \n",
    "\n",
    "Additionally, there might be alerts related to connections from unknown IP addresses. An IP address is like a home address for your computer on the Internet—it tells other computers where to send the information you request. When these addresses are unknown, it could mean that someone new is trying to connect or someone is attempting unauthorized access.\n",
    "\n",
    "Simulating a SIEM\n",
    "\n",
    "We have prepared a simplified, interactive simulation of a SIEM system to provide you with a hands-on experience similar to what cyber security analysts encounter.\n",
    "\n",
    "To start this simulation, please click the \"View Site\" button below.\n",
    "\n",
    "View Site\n",
    "This action will open a \"static site\" on the right side of your screen. Follow the step-by-step instructions provided within the simulation to navigate through the events and locate the \"flag.\" A flag is a series of characters with a format like this: \"THM{RANDOM_WORDS}\". Use this flag to answer questions from rooms here in TryHackMe, like the one below.\n",
    "\n",
    "What's next?\n",
    "\n",
    "In this room, we've discussed the different subfields (SOC, Threat Intelligence, Malware Analysis, and DFIR) and experienced firsthand how to deal with alerts in a simulated SIEM environment. While we've covered a lot, the depth and complexity of this field mean there's more to learn and explore. The lessons learned here will serve as your foundation as cyber threats evolve, demanding continuous learning, vigilance, and adaptation.\n",
    "\n",
    "Continue learning by checking out the next room in this series, \"Search Skills.\" This room will teach you valuable techniques for searching for information online to aid your investigations and learning.\n"
   ]
  },
  {
   "cell_type": "markdown",
   "id": "11d1b937",
   "metadata": {},
   "source": []
  }
 ],
 "metadata": {
  "language_info": {
   "name": "python"
  }
 },
 "nbformat": 4,
 "nbformat_minor": 5
}
