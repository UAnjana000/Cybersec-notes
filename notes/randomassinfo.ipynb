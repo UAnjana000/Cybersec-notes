{
 "cells": [
  {
   "cell_type": "markdown",
   "id": "ac74b043",
   "metadata": {},
   "source": [
    "CompTIA Security+ (Entry-level)\n",
    "\n",
    "Certified Ethical Hacker (CEH) or eJPT\n",
    "\n",
    "Cisco CyberOps or CCNA Security\n",
    "\n",
    "CompTIA CySA+\n",
    "\n",
    "Certified Information Systems Security Professional (CISSP)\n",
    "\n",
    "GIAC Certifications (for specializations like malware analysis, forensics)"
   ]
  },
  {
   "cell_type": "markdown",
   "id": "e92ceda8",
   "metadata": {},
   "source": [
    "🏛️ Government & Research Programs:\n",
    "NSA's Centers of Academic Excellence\n",
    "\n",
    "Google Summer of Code (GSoC)\n",
    "\n",
    "MITRE Internships\n",
    "\n",
    "DRDO, ISRO, CERT-IN (India) – often announce internships for CS students\n",
    "\n",
    "Cybersecurity Research Labs at universities (email professors with your interest + resume)\n",
    "\n"
   ]
  },
  {
   "cell_type": "markdown",
   "id": "7a28f42a",
   "metadata": {},
   "source": [
    "📅 Suggested Weekly Study Plan (for Beginners)  \n",
    "| Week | Focus Area                         | Resources                               |\n",
    "| ---- | ---------------------------------- | --------------------------------------- |\n",
    "| 1    | Security Fundamentals & Threats    | Professor Messer, Mike Meyers videos    |\n",
    "| 2    | Risk Management & Policies         | CompTIA Learn+, YouTube                 |\n",
    "| 3    | Network Security, Ports, Protocols | Flashcards, labs on TryHackMe           |\n",
    "| 4    | Access Control, Authentication     | Practice questions, CertMaster Labs     |\n",
    "| 5    | Cryptography & PKI                 | Learn key terms and algorithms          |\n",
    "| 6    | Cloud Security & Virtualization    | Use updated 701 study resources         |\n",
    "| 7    | Incident Response + Tools          | MITRE ATT\\&CK, Logs, SIEM tools basics  |\n",
    "| 8    | Review + Take Practice Tests       | CompTIA Official Practice Test, Dion    |\n",
    "| 9    | Weak Area Revisions                | Focus on scoring <70% in practice tests |\n",
    "| 10   | Final Mock & Exam Day              | Schedule exam, review calm              |\n"
   ]
  },
  {
   "cell_type": "markdown",
   "id": "9bdb57fa",
   "metadata": {},
   "source": [
    "🧰 Free & Paid Study Resources  \n",
    "| Resource Type    | Recommendations                              |\n",
    "| ---------------- | -------------------------------------------- |\n",
    "| Video Lectures   | **Professor Messer** (free), **Mike Meyers** |\n",
    "| Practice Exams   | **Jason Dion**, **ExamCompass**, **Boson**   |\n",
    "| Labs             | **TryHackMe**, **CompTIA CertMaster Labs**   |\n",
    "| Notes/Flashcards | **Anki**, **Quizlet**, or DIY Notion cards   |\n",
    "| Books            | **CompTIA Security+ Study Guide (Sybex)**    |\n"
   ]
  },
  {
   "cell_type": "markdown",
   "id": "17c6ff02",
   "metadata": {},
   "source": []
  }
 ],
 "metadata": {
  "kernelspec": {
   "display_name": "Python 3",
   "language": "python",
   "name": "python3"
  },
  "language_info": {
   "name": "python",
   "version": "3.11.7"
  }
 },
 "nbformat": 4,
 "nbformat_minor": 5
}
