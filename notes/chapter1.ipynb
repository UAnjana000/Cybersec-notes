{
 "cells": [
  {
   "cell_type": "markdown",
   "id": "bc39922b",
   "metadata": {},
   "source": [
    "Started with tryhackme  \n",
    "**Gobuster** is a popular open-source tool used in cybersecurity and penetration testing. It’s primarily used for **directory and file brute-forcing** on web servers, as well as for discovering hidden resources like subdomains or DNS records.\n",
    "\n",
    "### What does Gobuster do?\n",
    "\n",
    "* It attempts to find hidden or unlinked **directories, files, and URLs** on a web server by systematically trying a large list of potential names (called a wordlist).\n",
    "* It can also be used for **DNS subdomain enumeration** by brute-forcing subdomain names.\n",
    "* Helps security testers discover resources that might not be visible through normal browsing or search engines.\n",
    "\n",
    "### Why use Gobuster?\n",
    "\n",
    "* To identify potential entry points or vulnerabilities on a web server.\n",
    "* To map out the structure of a website or web application.\n",
    "* To find hidden or sensitive files and directories like admin panels, backup files, configuration files, etc.\n",
    "* To discover subdomains that might be vulnerable or contain sensitive information.\n",
    "\n",
    "### How does it work?\n",
    "\n",
    "* Gobuster reads a **wordlist** of possible directory or file names.\n",
    "* It sends HTTP requests to the target URL with each word appended.\n",
    "* It analyzes the responses (status codes like 200 OK, 403 Forbidden, 301 Redirect) to determine which resources exist.\n",
    "\n",
    "### Common use cases:\n",
    "\n",
    "* `gobuster dir -u https://example.com -w wordlist.txt`\n",
    "  (Brute-force directories/files on example.com)\n",
    "\n",
    "* `gobuster dns -d example.com -w subdomains.txt`\n",
    "  (Brute-force DNS subdomains for example.com)\n",
    "\n",
    "### Summary:\n",
    "\n",
    "Gobuster is a fast, command-line tool mainly used to discover hidden parts of websites and web servers by brute-forcing directory names, filenames, or subdomains.\n",
    "\n",
    "---\n",
    "\n",
    "If you want, I can also help you with example commands or explain how to install and run Gobuster!\n"
   ]
  },
  {
   "cell_type": "markdown",
   "id": "3e2cd233",
   "metadata": {},
   "source": []
  }
 ],
 "metadata": {
  "language_info": {
   "name": "python"
  }
 },
 "nbformat": 4,
 "nbformat_minor": 5
}
